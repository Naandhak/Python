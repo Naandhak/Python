{
 "cells": [
  {
   "cell_type": "code",
   "execution_count": null,
   "id": "b5545879-970f-44a7-b2a8-fee8a46857c6",
   "metadata": {},
   "outputs": [],
   "source": [
    "#TASK 1 - Please download dataset or generate it using the attached script dataset_generator.py\n",
    "import pandas as pd\n",
    "from tqdm import tqdm\n",
    "import csv\n",
    "import random\n",
    "import string\n",
    "from pyspark.sql import SparkSession\n",
    "from pyspark.sql.functions import *\n",
    "\n",
    "random.seed(1)\n",
    "\n",
    "letters = string.ascii_lowercase\n",
    "letters_upper = string.ascii_uppercase\n",
    "for _i in range(0, 10):\n",
    "    letters += letters\n",
    "\n",
    "for _i in range(0, 10):\n",
    "    letters += letters_upper\n",
    "\n",
    "\n",
    "def random_string(stringLength=10):\n",
    "    \"\"\"Generate a random string of fixed length \"\"\"\n",
    "    return ''.join(random.sample(letters, stringLength))\n",
    "\n",
    "\n",
    "print(\"Products between {} and {}\".format(1, 100000))\n",
    "product_ids = [x for x in range(1, 100000)]\n",
    "dates = ['2020-07-01', '2020-07-02', '2020-07-03', '2020-07-04', '2020-07-05', '2020-07-06', '2020-07-07', '2020-07-08', '2020-07-09', '2020-07-10']\n",
    "seller_ids = [x for x in range(1, 10)]\n",
    "\n",
    "\n",
    "#   Generate products\n",
    "products = [[0, \"product_0\", 22]]\n",
    "for p in tqdm(product_ids):\n",
    "    products.append([p, \"product_{}\".format(p), random.randint(1, 150)])\n",
    "#   Save dataframe\n",
    "df = pd.DataFrame(products)\n",
    "df.columns = [\"product_id\", \"product_name\", \"price\"]\n",
    "df.to_csv(\"products.csv\", index=False)\n",
    "del df\n",
    "del products\n",
    "\n",
    "#   Generate sellers\n",
    "sellers = [[0, \"seller_0\", 100000]]\n",
    "for s in tqdm(seller_ids):\n",
    "    sellers.append([s, \"seller_{}\".format(s), random.randint(0, 100000)])\n",
    "#   Save dataframe\n",
    "df = pd.DataFrame(sellers)\n",
    "df.columns = [\"seller_id\", \"seller_name\", \"daily_target\"]\n",
    "df.to_csv(\"sellers.csv\", index=False)\n",
    "\n",
    "#   Generate sales\n",
    "total_rows = 100000\n",
    "prod_zero = int(total_rows * 0.95)\n",
    "prod_others = total_rows - prod_zero + 1\n",
    "df_array = [[\"order_id\", \"product_id\", \"seller_id\", \"date\", \"num_pieces_sold\", \"bill_raw_text\"]]\n",
    "with open('sales.csv', 'w', newline='') as f:\n",
    "    csvwriter = csv.writer(f)\n",
    "    csvwriter.writerows(df_array)\n",
    "\n",
    "order_id = 0\n",
    "for i in tqdm(range(0, 40)):\n",
    "    df_array = []\n",
    "\n",
    "    for i in range(0, prod_zero):\n",
    "        order_id += 1\n",
    "        df_array.append([order_id, 0, 0, random.choice(dates), random.randint(1, 100), random_string(500)])\n",
    "\n",
    "    with open('sales.csv', 'a', newline='') as f:\n",
    "        csvwriter = csv.writer(f)\n",
    "        csvwriter.writerows(df_array)\n",
    "\n",
    "    df_array = []\n",
    "    for i in range(0, prod_others):\n",
    "        order_id += 1\n",
    "        df_array.append(\n",
    "            [order_id, random.choice(product_ids), random.choice(seller_ids), random.choice(dates),\n",
    "             random.randint(1, 100), random_string(500)])\n",
    "\n",
    "    with open('sales.csv', 'a', newline='') as f:\n",
    "        csvwriter = csv.writer(f)\n",
    "        csvwriter.writerows(df_array)\n",
    "\n",
    "print(\"Done\")"
   ]
  },
  {
   "cell_type": "code",
   "execution_count": null,
   "id": "3277c13a-43f4-4a6a-9c74-da15b03a8322",
   "metadata": {},
   "outputs": [],
   "source": [
    "#-------------------------TASK 1----------------------------------------------\n",
    "#importing SparkSession class\n",
    "from pyspark.sql import SparkSession"
   ]
  },
  {
   "cell_type": "code",
   "execution_count": null,
   "id": "bc47be65-333f-4113-ba44-83887592d061",
   "metadata": {},
   "outputs": [],
   "source": [
    "#assigning config to spark variable\n",
    "spark=SparkSession \\\n",
    ".builder \\\n",
    ".appName(\"Python Spark SQL basic example\") \\\n",
    ".config(\"spark.some.config.option\",\"some-value\") \\\n",
    ".getOrCreate()"
   ]
  },
  {
   "cell_type": "code",
   "execution_count": null,
   "id": "7d7c9a3f-31cd-4699-bfea-7dc71597b1f8",
   "metadata": {},
   "outputs": [],
   "source": [
    "#creating sparkcontext\n",
    "sc=spark.sparkContext"
   ]
  },
  {
   "cell_type": "code",
   "execution_count": null,
   "id": "ca55d1b7-323a-42fa-af0e-0614fd9da50d",
   "metadata": {},
   "outputs": [],
   "source": [
    "#2.1. Please upload data from sellers.csv into sellers_rdd variable. Use the textFile method with map function: \n",
    "sellers_rdd=sc.textFile(\"/home/jovyan/work/sellers.csv\").map(lambda x:x.split(\",\"))"
   ]
  },
  {
   "cell_type": "code",
   "execution_count": null,
   "id": "f6e66014-c125-4404-8020-e183de719334",
   "metadata": {},
   "outputs": [],
   "source": [
    "sellers_rdd_header=[\"seller_id\", \"seller_name\", \"daily_target\"]"
   ]
  },
  {
   "cell_type": "code",
   "execution_count": null,
   "id": "650092e8-b947-4811-9fbc-65c8887f193a",
   "metadata": {},
   "outputs": [],
   "source": [
    "#2.3. Save the first element of sellers_rdd into sellers_rdd_header variable\n",
    "sellers_rdd_header=sellers_rdd.top(1)"
   ]
  },
  {
   "cell_type": "code",
   "execution_count": null,
   "id": "6f101f09-af2c-491e-90df-2f67ace0b69b",
   "metadata": {},
   "outputs": [],
   "source": [
    "#2.4. Filter the sellers_rdd excluding the sellers_rdd_header value, and reassign it to sellers_rdd. \n",
    "sellers_rdd=sellers_rdd.filter(lambda x:x not in sellers_rdd_header)"
   ]
  },
  {
   "cell_type": "code",
   "execution_count": null,
   "id": "935d1761-76f1-41da-be0f-cfed5c4f4657",
   "metadata": {},
   "outputs": [],
   "source": [
    "#2.\tCreate a DataFrame variable sellers_df_test using toDF() function.\n",
    "sellers_df_test=sellers_rdd.toDF(schema=sellers_rdd_header[0])"
   ]
  },
  {
   "cell_type": "code",
   "execution_count": null,
   "id": "f6a8d1b7-2ebf-4aa9-be8c-9d45a3c0c0bc",
   "metadata": {},
   "outputs": [],
   "source": [
    "sellers_df_test.show()"
   ]
  },
  {
   "cell_type": "code",
   "execution_count": null,
   "id": "263ee637-d37c-48a2-9430-438f94d6d5cd",
   "metadata": {},
   "outputs": [],
   "source": [
    "#3.\tRun the following code in order to change data types \n",
    "sellers_rdd = sellers_rdd.map(lambda x: (int(x[0]),x[1],int(x[2])))"
   ]
  },
  {
   "cell_type": "code",
   "execution_count": null,
   "id": "f5b86994-8f44-4623-a1ef-57ba158192b0",
   "metadata": {},
   "outputs": [],
   "source": [
    "#4.\tRecreate a DataFrame variable sellers_df using createDataFrame() function. For this task you need to create a schema. \n",
    "#Review the dataset in order to choose correct data types."
   ]
  },
  {
   "cell_type": "code",
   "execution_count": null,
   "id": "452cba52-86be-48a8-b59a-e2c39f83bd9a",
   "metadata": {},
   "outputs": [],
   "source": [
    "#create a schema\n",
    "from pyspark.sql.types import *\n",
    "sellers_rdd_head=StructType([StructField('seller_id',IntegerType(),True),\n",
    "StructField('seller_name',StringType(),True),\n",
    "StructField('daily_target',FloatType(),True)])"
   ]
  },
  {
   "cell_type": "code",
   "execution_count": null,
   "id": "24b79acd-a5d7-4e78-8177-12ded09cf49c",
   "metadata": {},
   "outputs": [],
   "source": [
    "#Recreate a DataFrame variable sellers_df using createDataFrame() function.\n",
    "sellers_df=spark.createDataFrame(sellers_rdd,schema=sellers_rdd_head)"
   ]
  },
  {
   "cell_type": "code",
   "execution_count": 108,
   "id": "6273d186-126f-4c20-bc46-8502d03f0d65",
   "metadata": {},
   "outputs": [
    {
     "name": "stdout",
     "output_type": "stream",
     "text": [
      "root\n",
      " |-- seller_id: integer (nullable = true)\n",
      " |-- seller_name: string (nullable = true)\n",
      " |-- daily_target: float (nullable = true)\n",
      "\n"
     ]
    }
   ],
   "source": [
    "#Review the dataset in order to choose correct data types.\n",
    "sellers_df.printSchema()"
   ]
  },
  {
   "cell_type": "code",
   "execution_count": null,
   "id": "cee8bb2b-b171-464b-8950-6230156a9ac7",
   "metadata": {},
   "outputs": [],
   "source": []
  },
  {
   "cell_type": "code",
   "execution_count": 107,
   "id": "4a2743e0-fd0a-4fb7-882e-7def486dcaba",
   "metadata": {},
   "outputs": [
    {
     "ename": "Py4JJavaError",
     "evalue": "An error occurred while calling o597.count.\n: org.apache.spark.SparkException: Job aborted due to stage failure: Task 0 in stage 33.0 failed 1 times, most recent failure: Lost task 0.0 in stage 33.0 (TID 46) (c90e108b8cc1 executor driver): org.apache.spark.api.python.PythonException: Traceback (most recent call last):\n  File \"/usr/local/spark/python/lib/pyspark.zip/pyspark/worker.py\", line 1247, in main\n    process()\n  File \"/usr/local/spark/python/lib/pyspark.zip/pyspark/worker.py\", line 1239, in process\n    serializer.dump_stream(out_iter, outfile)\n  File \"/usr/local/spark/python/lib/pyspark.zip/pyspark/serializers.py\", line 274, in dump_stream\n    vs = list(itertools.islice(iterator, batch))\n         ^^^^^^^^^^^^^^^^^^^^^^^^^^^^^^^^^^^^^^^\n  File \"/usr/local/spark/python/lib/pyspark.zip/pyspark/util.py\", line 83, in wrapper\n    return f(*args, **kwargs)\n           ^^^^^^^^^^^^^^^^^^\n  File \"/usr/local/spark/python/pyspark/sql/session.py\", line 1459, in prepare\n    verify_func(obj)\n  File \"/usr/local/spark/python/pyspark/sql/types.py\", line 2187, in verify\n    verify_value(obj)\n  File \"/usr/local/spark/python/pyspark/sql/types.py\", line 2160, in verify_struct\n    verifier(v)\n  File \"/usr/local/spark/python/pyspark/sql/types.py\", line 2187, in verify\n    verify_value(obj)\n  File \"/usr/local/spark/python/pyspark/sql/types.py\", line 2181, in verify_default\n    verify_acceptable_types(obj)\n  File \"/usr/local/spark/python/pyspark/sql/types.py\", line 2006, in verify_acceptable_types\n    raise PySparkTypeError(\npyspark.errors.exceptions.base.PySparkTypeError: [CANNOT_ACCEPT_OBJECT_IN_TYPE] `FloatType()` can not accept object `100000` in type `int`.\n\n\tat org.apache.spark.api.python.BasePythonRunner$ReaderIterator.handlePythonException(PythonRunner.scala:572)\n\tat org.apache.spark.api.python.PythonRunner$$anon$3.read(PythonRunner.scala:784)\n\tat org.apache.spark.api.python.PythonRunner$$anon$3.read(PythonRunner.scala:766)\n\tat org.apache.spark.api.python.BasePythonRunner$ReaderIterator.hasNext(PythonRunner.scala:525)\n\tat org.apache.spark.InterruptibleIterator.hasNext(InterruptibleIterator.scala:37)\n\tat scala.collection.Iterator$$anon$11.hasNext(Iterator.scala:491)\n\tat scala.collection.Iterator$$anon$10.hasNext(Iterator.scala:460)\n\tat scala.collection.Iterator$$anon$10.hasNext(Iterator.scala:460)\n\tat org.apache.spark.sql.catalyst.expressions.GeneratedClass$GeneratedIteratorForCodegenStage1.hashAgg_doAggregateWithoutKey_0$(Unknown Source)\n\tat org.apache.spark.sql.catalyst.expressions.GeneratedClass$GeneratedIteratorForCodegenStage1.processNext(Unknown Source)\n\tat org.apache.spark.sql.execution.BufferedRowIterator.hasNext(BufferedRowIterator.java:43)\n\tat org.apache.spark.sql.execution.WholeStageCodegenEvaluatorFactory$WholeStageCodegenPartitionEvaluator$$anon$1.hasNext(WholeStageCodegenEvaluatorFactory.scala:43)\n\tat scala.collection.Iterator$$anon$10.hasNext(Iterator.scala:460)\n\tat org.apache.spark.shuffle.sort.BypassMergeSortShuffleWriter.write(BypassMergeSortShuffleWriter.java:140)\n\tat org.apache.spark.shuffle.ShuffleWriteProcessor.write(ShuffleWriteProcessor.scala:59)\n\tat org.apache.spark.scheduler.ShuffleMapTask.runTask(ShuffleMapTask.scala:104)\n\tat org.apache.spark.scheduler.ShuffleMapTask.runTask(ShuffleMapTask.scala:54)\n\tat org.apache.spark.TaskContext.runTaskWithListeners(TaskContext.scala:161)\n\tat org.apache.spark.scheduler.Task.run(Task.scala:141)\n\tat org.apache.spark.executor.Executor$TaskRunner.$anonfun$run$4(Executor.scala:620)\n\tat org.apache.spark.util.SparkErrorUtils.tryWithSafeFinally(SparkErrorUtils.scala:64)\n\tat org.apache.spark.util.SparkErrorUtils.tryWithSafeFinally$(SparkErrorUtils.scala:61)\n\tat org.apache.spark.util.Utils$.tryWithSafeFinally(Utils.scala:94)\n\tat org.apache.spark.executor.Executor$TaskRunner.run(Executor.scala:623)\n\tat java.base/java.util.concurrent.ThreadPoolExecutor.runWorker(ThreadPoolExecutor.java:1136)\n\tat java.base/java.util.concurrent.ThreadPoolExecutor$Worker.run(ThreadPoolExecutor.java:635)\n\tat java.base/java.lang.Thread.run(Thread.java:833)\n\nDriver stacktrace:\n\tat org.apache.spark.scheduler.DAGScheduler.failJobAndIndependentStages(DAGScheduler.scala:2844)\n\tat org.apache.spark.scheduler.DAGScheduler.$anonfun$abortStage$2(DAGScheduler.scala:2780)\n\tat org.apache.spark.scheduler.DAGScheduler.$anonfun$abortStage$2$adapted(DAGScheduler.scala:2779)\n\tat scala.collection.mutable.ResizableArray.foreach(ResizableArray.scala:62)\n\tat scala.collection.mutable.ResizableArray.foreach$(ResizableArray.scala:55)\n\tat scala.collection.mutable.ArrayBuffer.foreach(ArrayBuffer.scala:49)\n\tat org.apache.spark.scheduler.DAGScheduler.abortStage(DAGScheduler.scala:2779)\n\tat org.apache.spark.scheduler.DAGScheduler.$anonfun$handleTaskSetFailed$1(DAGScheduler.scala:1242)\n\tat org.apache.spark.scheduler.DAGScheduler.$anonfun$handleTaskSetFailed$1$adapted(DAGScheduler.scala:1242)\n\tat scala.Option.foreach(Option.scala:407)\n\tat org.apache.spark.scheduler.DAGScheduler.handleTaskSetFailed(DAGScheduler.scala:1242)\n\tat org.apache.spark.scheduler.DAGSchedulerEventProcessLoop.doOnReceive(DAGScheduler.scala:3048)\n\tat org.apache.spark.scheduler.DAGSchedulerEventProcessLoop.onReceive(DAGScheduler.scala:2982)\n\tat org.apache.spark.scheduler.DAGSchedulerEventProcessLoop.onReceive(DAGScheduler.scala:2971)\n\tat org.apache.spark.util.EventLoop$$anon$1.run(EventLoop.scala:49)\nCaused by: org.apache.spark.api.python.PythonException: Traceback (most recent call last):\n  File \"/usr/local/spark/python/lib/pyspark.zip/pyspark/worker.py\", line 1247, in main\n    process()\n  File \"/usr/local/spark/python/lib/pyspark.zip/pyspark/worker.py\", line 1239, in process\n    serializer.dump_stream(out_iter, outfile)\n  File \"/usr/local/spark/python/lib/pyspark.zip/pyspark/serializers.py\", line 274, in dump_stream\n    vs = list(itertools.islice(iterator, batch))\n         ^^^^^^^^^^^^^^^^^^^^^^^^^^^^^^^^^^^^^^^\n  File \"/usr/local/spark/python/lib/pyspark.zip/pyspark/util.py\", line 83, in wrapper\n    return f(*args, **kwargs)\n           ^^^^^^^^^^^^^^^^^^\n  File \"/usr/local/spark/python/pyspark/sql/session.py\", line 1459, in prepare\n    verify_func(obj)\n  File \"/usr/local/spark/python/pyspark/sql/types.py\", line 2187, in verify\n    verify_value(obj)\n  File \"/usr/local/spark/python/pyspark/sql/types.py\", line 2160, in verify_struct\n    verifier(v)\n  File \"/usr/local/spark/python/pyspark/sql/types.py\", line 2187, in verify\n    verify_value(obj)\n  File \"/usr/local/spark/python/pyspark/sql/types.py\", line 2181, in verify_default\n    verify_acceptable_types(obj)\n  File \"/usr/local/spark/python/pyspark/sql/types.py\", line 2006, in verify_acceptable_types\n    raise PySparkTypeError(\npyspark.errors.exceptions.base.PySparkTypeError: [CANNOT_ACCEPT_OBJECT_IN_TYPE] `FloatType()` can not accept object `100000` in type `int`.\n\n\tat org.apache.spark.api.python.BasePythonRunner$ReaderIterator.handlePythonException(PythonRunner.scala:572)\n\tat org.apache.spark.api.python.PythonRunner$$anon$3.read(PythonRunner.scala:784)\n\tat org.apache.spark.api.python.PythonRunner$$anon$3.read(PythonRunner.scala:766)\n\tat org.apache.spark.api.python.BasePythonRunner$ReaderIterator.hasNext(PythonRunner.scala:525)\n\tat org.apache.spark.InterruptibleIterator.hasNext(InterruptibleIterator.scala:37)\n\tat scala.collection.Iterator$$anon$11.hasNext(Iterator.scala:491)\n\tat scala.collection.Iterator$$anon$10.hasNext(Iterator.scala:460)\n\tat scala.collection.Iterator$$anon$10.hasNext(Iterator.scala:460)\n\tat org.apache.spark.sql.catalyst.expressions.GeneratedClass$GeneratedIteratorForCodegenStage1.hashAgg_doAggregateWithoutKey_0$(Unknown Source)\n\tat org.apache.spark.sql.catalyst.expressions.GeneratedClass$GeneratedIteratorForCodegenStage1.processNext(Unknown Source)\n\tat org.apache.spark.sql.execution.BufferedRowIterator.hasNext(BufferedRowIterator.java:43)\n\tat org.apache.spark.sql.execution.WholeStageCodegenEvaluatorFactory$WholeStageCodegenPartitionEvaluator$$anon$1.hasNext(WholeStageCodegenEvaluatorFactory.scala:43)\n\tat scala.collection.Iterator$$anon$10.hasNext(Iterator.scala:460)\n\tat org.apache.spark.shuffle.sort.BypassMergeSortShuffleWriter.write(BypassMergeSortShuffleWriter.java:140)\n\tat org.apache.spark.shuffle.ShuffleWriteProcessor.write(ShuffleWriteProcessor.scala:59)\n\tat org.apache.spark.scheduler.ShuffleMapTask.runTask(ShuffleMapTask.scala:104)\n\tat org.apache.spark.scheduler.ShuffleMapTask.runTask(ShuffleMapTask.scala:54)\n\tat org.apache.spark.TaskContext.runTaskWithListeners(TaskContext.scala:161)\n\tat org.apache.spark.scheduler.Task.run(Task.scala:141)\n\tat org.apache.spark.executor.Executor$TaskRunner.$anonfun$run$4(Executor.scala:620)\n\tat org.apache.spark.util.SparkErrorUtils.tryWithSafeFinally(SparkErrorUtils.scala:64)\n\tat org.apache.spark.util.SparkErrorUtils.tryWithSafeFinally$(SparkErrorUtils.scala:61)\n\tat org.apache.spark.util.Utils$.tryWithSafeFinally(Utils.scala:94)\n\tat org.apache.spark.executor.Executor$TaskRunner.run(Executor.scala:623)\n\tat java.base/java.util.concurrent.ThreadPoolExecutor.runWorker(ThreadPoolExecutor.java:1136)\n\tat java.base/java.util.concurrent.ThreadPoolExecutor$Worker.run(ThreadPoolExecutor.java:635)\n\tat java.base/java.lang.Thread.run(Thread.java:833)\n",
     "output_type": "error",
     "traceback": [
      "\u001b[0;31m---------------------------------------------------------------------------\u001b[0m",
      "\u001b[0;31mPy4JJavaError\u001b[0m                             Traceback (most recent call last)",
      "Cell \u001b[0;32mIn[107], line 1\u001b[0m\n\u001b[0;32m----> 1\u001b[0m \u001b[43msellers_df\u001b[49m\u001b[38;5;241;43m.\u001b[39;49m\u001b[43mcount\u001b[49m\u001b[43m(\u001b[49m\u001b[43m)\u001b[49m\n",
      "File \u001b[0;32m/usr/local/spark/python/pyspark/sql/dataframe.py:1234\u001b[0m, in \u001b[0;36mDataFrame.count\u001b[0;34m(self)\u001b[0m\n\u001b[1;32m   1211\u001b[0m \u001b[38;5;28;01mdef\u001b[39;00m \u001b[38;5;21mcount\u001b[39m(\u001b[38;5;28mself\u001b[39m) \u001b[38;5;241m-\u001b[39m\u001b[38;5;241m>\u001b[39m \u001b[38;5;28mint\u001b[39m:\n\u001b[1;32m   1212\u001b[0m \u001b[38;5;250m    \u001b[39m\u001b[38;5;124;03m\"\"\"Returns the number of rows in this :class:`DataFrame`.\u001b[39;00m\n\u001b[1;32m   1213\u001b[0m \n\u001b[1;32m   1214\u001b[0m \u001b[38;5;124;03m    .. versionadded:: 1.3.0\u001b[39;00m\n\u001b[0;32m   (...)\u001b[0m\n\u001b[1;32m   1232\u001b[0m \u001b[38;5;124;03m    3\u001b[39;00m\n\u001b[1;32m   1233\u001b[0m \u001b[38;5;124;03m    \"\"\"\u001b[39;00m\n\u001b[0;32m-> 1234\u001b[0m     \u001b[38;5;28;01mreturn\u001b[39;00m \u001b[38;5;28mint\u001b[39m(\u001b[38;5;28;43mself\u001b[39;49m\u001b[38;5;241;43m.\u001b[39;49m\u001b[43m_jdf\u001b[49m\u001b[38;5;241;43m.\u001b[39;49m\u001b[43mcount\u001b[49m\u001b[43m(\u001b[49m\u001b[43m)\u001b[49m)\n",
      "File \u001b[0;32m/usr/local/spark/python/lib/py4j-0.10.9.7-src.zip/py4j/java_gateway.py:1322\u001b[0m, in \u001b[0;36mJavaMember.__call__\u001b[0;34m(self, *args)\u001b[0m\n\u001b[1;32m   1316\u001b[0m command \u001b[38;5;241m=\u001b[39m proto\u001b[38;5;241m.\u001b[39mCALL_COMMAND_NAME \u001b[38;5;241m+\u001b[39m\\\n\u001b[1;32m   1317\u001b[0m     \u001b[38;5;28mself\u001b[39m\u001b[38;5;241m.\u001b[39mcommand_header \u001b[38;5;241m+\u001b[39m\\\n\u001b[1;32m   1318\u001b[0m     args_command \u001b[38;5;241m+\u001b[39m\\\n\u001b[1;32m   1319\u001b[0m     proto\u001b[38;5;241m.\u001b[39mEND_COMMAND_PART\n\u001b[1;32m   1321\u001b[0m answer \u001b[38;5;241m=\u001b[39m \u001b[38;5;28mself\u001b[39m\u001b[38;5;241m.\u001b[39mgateway_client\u001b[38;5;241m.\u001b[39msend_command(command)\n\u001b[0;32m-> 1322\u001b[0m return_value \u001b[38;5;241m=\u001b[39m \u001b[43mget_return_value\u001b[49m\u001b[43m(\u001b[49m\n\u001b[1;32m   1323\u001b[0m \u001b[43m    \u001b[49m\u001b[43manswer\u001b[49m\u001b[43m,\u001b[49m\u001b[43m \u001b[49m\u001b[38;5;28;43mself\u001b[39;49m\u001b[38;5;241;43m.\u001b[39;49m\u001b[43mgateway_client\u001b[49m\u001b[43m,\u001b[49m\u001b[43m \u001b[49m\u001b[38;5;28;43mself\u001b[39;49m\u001b[38;5;241;43m.\u001b[39;49m\u001b[43mtarget_id\u001b[49m\u001b[43m,\u001b[49m\u001b[43m \u001b[49m\u001b[38;5;28;43mself\u001b[39;49m\u001b[38;5;241;43m.\u001b[39;49m\u001b[43mname\u001b[49m\u001b[43m)\u001b[49m\n\u001b[1;32m   1325\u001b[0m \u001b[38;5;28;01mfor\u001b[39;00m temp_arg \u001b[38;5;129;01min\u001b[39;00m temp_args:\n\u001b[1;32m   1326\u001b[0m     \u001b[38;5;28;01mif\u001b[39;00m \u001b[38;5;28mhasattr\u001b[39m(temp_arg, \u001b[38;5;124m\"\u001b[39m\u001b[38;5;124m_detach\u001b[39m\u001b[38;5;124m\"\u001b[39m):\n",
      "File \u001b[0;32m/usr/local/spark/python/pyspark/errors/exceptions/captured.py:179\u001b[0m, in \u001b[0;36mcapture_sql_exception.<locals>.deco\u001b[0;34m(*a, **kw)\u001b[0m\n\u001b[1;32m    177\u001b[0m \u001b[38;5;28;01mdef\u001b[39;00m \u001b[38;5;21mdeco\u001b[39m(\u001b[38;5;241m*\u001b[39ma: Any, \u001b[38;5;241m*\u001b[39m\u001b[38;5;241m*\u001b[39mkw: Any) \u001b[38;5;241m-\u001b[39m\u001b[38;5;241m>\u001b[39m Any:\n\u001b[1;32m    178\u001b[0m     \u001b[38;5;28;01mtry\u001b[39;00m:\n\u001b[0;32m--> 179\u001b[0m         \u001b[38;5;28;01mreturn\u001b[39;00m \u001b[43mf\u001b[49m\u001b[43m(\u001b[49m\u001b[38;5;241;43m*\u001b[39;49m\u001b[43ma\u001b[49m\u001b[43m,\u001b[49m\u001b[43m \u001b[49m\u001b[38;5;241;43m*\u001b[39;49m\u001b[38;5;241;43m*\u001b[39;49m\u001b[43mkw\u001b[49m\u001b[43m)\u001b[49m\n\u001b[1;32m    180\u001b[0m     \u001b[38;5;28;01mexcept\u001b[39;00m Py4JJavaError \u001b[38;5;28;01mas\u001b[39;00m e:\n\u001b[1;32m    181\u001b[0m         converted \u001b[38;5;241m=\u001b[39m convert_exception(e\u001b[38;5;241m.\u001b[39mjava_exception)\n",
      "File \u001b[0;32m/usr/local/spark/python/lib/py4j-0.10.9.7-src.zip/py4j/protocol.py:326\u001b[0m, in \u001b[0;36mget_return_value\u001b[0;34m(answer, gateway_client, target_id, name)\u001b[0m\n\u001b[1;32m    324\u001b[0m value \u001b[38;5;241m=\u001b[39m OUTPUT_CONVERTER[\u001b[38;5;28mtype\u001b[39m](answer[\u001b[38;5;241m2\u001b[39m:], gateway_client)\n\u001b[1;32m    325\u001b[0m \u001b[38;5;28;01mif\u001b[39;00m answer[\u001b[38;5;241m1\u001b[39m] \u001b[38;5;241m==\u001b[39m REFERENCE_TYPE:\n\u001b[0;32m--> 326\u001b[0m     \u001b[38;5;28;01mraise\u001b[39;00m Py4JJavaError(\n\u001b[1;32m    327\u001b[0m         \u001b[38;5;124m\"\u001b[39m\u001b[38;5;124mAn error occurred while calling \u001b[39m\u001b[38;5;132;01m{0}\u001b[39;00m\u001b[38;5;132;01m{1}\u001b[39;00m\u001b[38;5;132;01m{2}\u001b[39;00m\u001b[38;5;124m.\u001b[39m\u001b[38;5;130;01m\\n\u001b[39;00m\u001b[38;5;124m\"\u001b[39m\u001b[38;5;241m.\u001b[39m\n\u001b[1;32m    328\u001b[0m         \u001b[38;5;28mformat\u001b[39m(target_id, \u001b[38;5;124m\"\u001b[39m\u001b[38;5;124m.\u001b[39m\u001b[38;5;124m\"\u001b[39m, name), value)\n\u001b[1;32m    329\u001b[0m \u001b[38;5;28;01melse\u001b[39;00m:\n\u001b[1;32m    330\u001b[0m     \u001b[38;5;28;01mraise\u001b[39;00m Py4JError(\n\u001b[1;32m    331\u001b[0m         \u001b[38;5;124m\"\u001b[39m\u001b[38;5;124mAn error occurred while calling \u001b[39m\u001b[38;5;132;01m{0}\u001b[39;00m\u001b[38;5;132;01m{1}\u001b[39;00m\u001b[38;5;132;01m{2}\u001b[39;00m\u001b[38;5;124m. Trace:\u001b[39m\u001b[38;5;130;01m\\n\u001b[39;00m\u001b[38;5;132;01m{3}\u001b[39;00m\u001b[38;5;130;01m\\n\u001b[39;00m\u001b[38;5;124m\"\u001b[39m\u001b[38;5;241m.\u001b[39m\n\u001b[1;32m    332\u001b[0m         \u001b[38;5;28mformat\u001b[39m(target_id, \u001b[38;5;124m\"\u001b[39m\u001b[38;5;124m.\u001b[39m\u001b[38;5;124m\"\u001b[39m, name, value))\n",
      "\u001b[0;31mPy4JJavaError\u001b[0m: An error occurred while calling o597.count.\n: org.apache.spark.SparkException: Job aborted due to stage failure: Task 0 in stage 33.0 failed 1 times, most recent failure: Lost task 0.0 in stage 33.0 (TID 46) (c90e108b8cc1 executor driver): org.apache.spark.api.python.PythonException: Traceback (most recent call last):\n  File \"/usr/local/spark/python/lib/pyspark.zip/pyspark/worker.py\", line 1247, in main\n    process()\n  File \"/usr/local/spark/python/lib/pyspark.zip/pyspark/worker.py\", line 1239, in process\n    serializer.dump_stream(out_iter, outfile)\n  File \"/usr/local/spark/python/lib/pyspark.zip/pyspark/serializers.py\", line 274, in dump_stream\n    vs = list(itertools.islice(iterator, batch))\n         ^^^^^^^^^^^^^^^^^^^^^^^^^^^^^^^^^^^^^^^\n  File \"/usr/local/spark/python/lib/pyspark.zip/pyspark/util.py\", line 83, in wrapper\n    return f(*args, **kwargs)\n           ^^^^^^^^^^^^^^^^^^\n  File \"/usr/local/spark/python/pyspark/sql/session.py\", line 1459, in prepare\n    verify_func(obj)\n  File \"/usr/local/spark/python/pyspark/sql/types.py\", line 2187, in verify\n    verify_value(obj)\n  File \"/usr/local/spark/python/pyspark/sql/types.py\", line 2160, in verify_struct\n    verifier(v)\n  File \"/usr/local/spark/python/pyspark/sql/types.py\", line 2187, in verify\n    verify_value(obj)\n  File \"/usr/local/spark/python/pyspark/sql/types.py\", line 2181, in verify_default\n    verify_acceptable_types(obj)\n  File \"/usr/local/spark/python/pyspark/sql/types.py\", line 2006, in verify_acceptable_types\n    raise PySparkTypeError(\npyspark.errors.exceptions.base.PySparkTypeError: [CANNOT_ACCEPT_OBJECT_IN_TYPE] `FloatType()` can not accept object `100000` in type `int`.\n\n\tat org.apache.spark.api.python.BasePythonRunner$ReaderIterator.handlePythonException(PythonRunner.scala:572)\n\tat org.apache.spark.api.python.PythonRunner$$anon$3.read(PythonRunner.scala:784)\n\tat org.apache.spark.api.python.PythonRunner$$anon$3.read(PythonRunner.scala:766)\n\tat org.apache.spark.api.python.BasePythonRunner$ReaderIterator.hasNext(PythonRunner.scala:525)\n\tat org.apache.spark.InterruptibleIterator.hasNext(InterruptibleIterator.scala:37)\n\tat scala.collection.Iterator$$anon$11.hasNext(Iterator.scala:491)\n\tat scala.collection.Iterator$$anon$10.hasNext(Iterator.scala:460)\n\tat scala.collection.Iterator$$anon$10.hasNext(Iterator.scala:460)\n\tat org.apache.spark.sql.catalyst.expressions.GeneratedClass$GeneratedIteratorForCodegenStage1.hashAgg_doAggregateWithoutKey_0$(Unknown Source)\n\tat org.apache.spark.sql.catalyst.expressions.GeneratedClass$GeneratedIteratorForCodegenStage1.processNext(Unknown Source)\n\tat org.apache.spark.sql.execution.BufferedRowIterator.hasNext(BufferedRowIterator.java:43)\n\tat org.apache.spark.sql.execution.WholeStageCodegenEvaluatorFactory$WholeStageCodegenPartitionEvaluator$$anon$1.hasNext(WholeStageCodegenEvaluatorFactory.scala:43)\n\tat scala.collection.Iterator$$anon$10.hasNext(Iterator.scala:460)\n\tat org.apache.spark.shuffle.sort.BypassMergeSortShuffleWriter.write(BypassMergeSortShuffleWriter.java:140)\n\tat org.apache.spark.shuffle.ShuffleWriteProcessor.write(ShuffleWriteProcessor.scala:59)\n\tat org.apache.spark.scheduler.ShuffleMapTask.runTask(ShuffleMapTask.scala:104)\n\tat org.apache.spark.scheduler.ShuffleMapTask.runTask(ShuffleMapTask.scala:54)\n\tat org.apache.spark.TaskContext.runTaskWithListeners(TaskContext.scala:161)\n\tat org.apache.spark.scheduler.Task.run(Task.scala:141)\n\tat org.apache.spark.executor.Executor$TaskRunner.$anonfun$run$4(Executor.scala:620)\n\tat org.apache.spark.util.SparkErrorUtils.tryWithSafeFinally(SparkErrorUtils.scala:64)\n\tat org.apache.spark.util.SparkErrorUtils.tryWithSafeFinally$(SparkErrorUtils.scala:61)\n\tat org.apache.spark.util.Utils$.tryWithSafeFinally(Utils.scala:94)\n\tat org.apache.spark.executor.Executor$TaskRunner.run(Executor.scala:623)\n\tat java.base/java.util.concurrent.ThreadPoolExecutor.runWorker(ThreadPoolExecutor.java:1136)\n\tat java.base/java.util.concurrent.ThreadPoolExecutor$Worker.run(ThreadPoolExecutor.java:635)\n\tat java.base/java.lang.Thread.run(Thread.java:833)\n\nDriver stacktrace:\n\tat org.apache.spark.scheduler.DAGScheduler.failJobAndIndependentStages(DAGScheduler.scala:2844)\n\tat org.apache.spark.scheduler.DAGScheduler.$anonfun$abortStage$2(DAGScheduler.scala:2780)\n\tat org.apache.spark.scheduler.DAGScheduler.$anonfun$abortStage$2$adapted(DAGScheduler.scala:2779)\n\tat scala.collection.mutable.ResizableArray.foreach(ResizableArray.scala:62)\n\tat scala.collection.mutable.ResizableArray.foreach$(ResizableArray.scala:55)\n\tat scala.collection.mutable.ArrayBuffer.foreach(ArrayBuffer.scala:49)\n\tat org.apache.spark.scheduler.DAGScheduler.abortStage(DAGScheduler.scala:2779)\n\tat org.apache.spark.scheduler.DAGScheduler.$anonfun$handleTaskSetFailed$1(DAGScheduler.scala:1242)\n\tat org.apache.spark.scheduler.DAGScheduler.$anonfun$handleTaskSetFailed$1$adapted(DAGScheduler.scala:1242)\n\tat scala.Option.foreach(Option.scala:407)\n\tat org.apache.spark.scheduler.DAGScheduler.handleTaskSetFailed(DAGScheduler.scala:1242)\n\tat org.apache.spark.scheduler.DAGSchedulerEventProcessLoop.doOnReceive(DAGScheduler.scala:3048)\n\tat org.apache.spark.scheduler.DAGSchedulerEventProcessLoop.onReceive(DAGScheduler.scala:2982)\n\tat org.apache.spark.scheduler.DAGSchedulerEventProcessLoop.onReceive(DAGScheduler.scala:2971)\n\tat org.apache.spark.util.EventLoop$$anon$1.run(EventLoop.scala:49)\nCaused by: org.apache.spark.api.python.PythonException: Traceback (most recent call last):\n  File \"/usr/local/spark/python/lib/pyspark.zip/pyspark/worker.py\", line 1247, in main\n    process()\n  File \"/usr/local/spark/python/lib/pyspark.zip/pyspark/worker.py\", line 1239, in process\n    serializer.dump_stream(out_iter, outfile)\n  File \"/usr/local/spark/python/lib/pyspark.zip/pyspark/serializers.py\", line 274, in dump_stream\n    vs = list(itertools.islice(iterator, batch))\n         ^^^^^^^^^^^^^^^^^^^^^^^^^^^^^^^^^^^^^^^\n  File \"/usr/local/spark/python/lib/pyspark.zip/pyspark/util.py\", line 83, in wrapper\n    return f(*args, **kwargs)\n           ^^^^^^^^^^^^^^^^^^\n  File \"/usr/local/spark/python/pyspark/sql/session.py\", line 1459, in prepare\n    verify_func(obj)\n  File \"/usr/local/spark/python/pyspark/sql/types.py\", line 2187, in verify\n    verify_value(obj)\n  File \"/usr/local/spark/python/pyspark/sql/types.py\", line 2160, in verify_struct\n    verifier(v)\n  File \"/usr/local/spark/python/pyspark/sql/types.py\", line 2187, in verify\n    verify_value(obj)\n  File \"/usr/local/spark/python/pyspark/sql/types.py\", line 2181, in verify_default\n    verify_acceptable_types(obj)\n  File \"/usr/local/spark/python/pyspark/sql/types.py\", line 2006, in verify_acceptable_types\n    raise PySparkTypeError(\npyspark.errors.exceptions.base.PySparkTypeError: [CANNOT_ACCEPT_OBJECT_IN_TYPE] `FloatType()` can not accept object `100000` in type `int`.\n\n\tat org.apache.spark.api.python.BasePythonRunner$ReaderIterator.handlePythonException(PythonRunner.scala:572)\n\tat org.apache.spark.api.python.PythonRunner$$anon$3.read(PythonRunner.scala:784)\n\tat org.apache.spark.api.python.PythonRunner$$anon$3.read(PythonRunner.scala:766)\n\tat org.apache.spark.api.python.BasePythonRunner$ReaderIterator.hasNext(PythonRunner.scala:525)\n\tat org.apache.spark.InterruptibleIterator.hasNext(InterruptibleIterator.scala:37)\n\tat scala.collection.Iterator$$anon$11.hasNext(Iterator.scala:491)\n\tat scala.collection.Iterator$$anon$10.hasNext(Iterator.scala:460)\n\tat scala.collection.Iterator$$anon$10.hasNext(Iterator.scala:460)\n\tat org.apache.spark.sql.catalyst.expressions.GeneratedClass$GeneratedIteratorForCodegenStage1.hashAgg_doAggregateWithoutKey_0$(Unknown Source)\n\tat org.apache.spark.sql.catalyst.expressions.GeneratedClass$GeneratedIteratorForCodegenStage1.processNext(Unknown Source)\n\tat org.apache.spark.sql.execution.BufferedRowIterator.hasNext(BufferedRowIterator.java:43)\n\tat org.apache.spark.sql.execution.WholeStageCodegenEvaluatorFactory$WholeStageCodegenPartitionEvaluator$$anon$1.hasNext(WholeStageCodegenEvaluatorFactory.scala:43)\n\tat scala.collection.Iterator$$anon$10.hasNext(Iterator.scala:460)\n\tat org.apache.spark.shuffle.sort.BypassMergeSortShuffleWriter.write(BypassMergeSortShuffleWriter.java:140)\n\tat org.apache.spark.shuffle.ShuffleWriteProcessor.write(ShuffleWriteProcessor.scala:59)\n\tat org.apache.spark.scheduler.ShuffleMapTask.runTask(ShuffleMapTask.scala:104)\n\tat org.apache.spark.scheduler.ShuffleMapTask.runTask(ShuffleMapTask.scala:54)\n\tat org.apache.spark.TaskContext.runTaskWithListeners(TaskContext.scala:161)\n\tat org.apache.spark.scheduler.Task.run(Task.scala:141)\n\tat org.apache.spark.executor.Executor$TaskRunner.$anonfun$run$4(Executor.scala:620)\n\tat org.apache.spark.util.SparkErrorUtils.tryWithSafeFinally(SparkErrorUtils.scala:64)\n\tat org.apache.spark.util.SparkErrorUtils.tryWithSafeFinally$(SparkErrorUtils.scala:61)\n\tat org.apache.spark.util.Utils$.tryWithSafeFinally(Utils.scala:94)\n\tat org.apache.spark.executor.Executor$TaskRunner.run(Executor.scala:623)\n\tat java.base/java.util.concurrent.ThreadPoolExecutor.runWorker(ThreadPoolExecutor.java:1136)\n\tat java.base/java.util.concurrent.ThreadPoolExecutor$Worker.run(ThreadPoolExecutor.java:635)\n\tat java.base/java.lang.Thread.run(Thread.java:833)\n"
     ]
    }
   ],
   "source": [
    "sellers_df.count()"
   ]
  },
  {
   "cell_type": "code",
   "execution_count": null,
   "id": "5c390a80-d86d-4d59-8708-52cafc0bb7f8",
   "metadata": {},
   "outputs": [],
   "source": [
    "#5.\tCreate a Pandas dataframe sellers_df_pd  from Spark dataframe.\n",
    "sellers_df_Pandas=sellers_df.toPandas()"
   ]
  },
  {
   "cell_type": "code",
   "execution_count": null,
   "id": "c7383fc0-5c43-4487-a080-61560d03971d",
   "metadata": {},
   "outputs": [],
   "source": [
    "#2.2. Take first 10 elements of sellers_rdd.\n",
    "sellers_rdd.take(10)"
   ]
  },
  {
   "cell_type": "code",
   "execution_count": null,
   "id": "cbaa835e-b0a8-4b26-8959-777b666c3699",
   "metadata": {},
   "outputs": [],
   "source": [
    "import pandas as pd"
   ]
  },
  {
   "cell_type": "code",
   "execution_count": null,
   "id": "e669c5c3-365f-419c-a75f-76ac7d4ca97b",
   "metadata": {},
   "outputs": [],
   "source": []
  },
  {
   "cell_type": "code",
   "execution_count": null,
   "id": "c8772e21-01de-4c48-9c3f-5b10ed25cda8",
   "metadata": {},
   "outputs": [],
   "source": []
  },
  {
   "cell_type": "code",
   "execution_count": null,
   "id": "e25f60da-7134-4dea-8736-e33b48236776",
   "metadata": {},
   "outputs": [],
   "source": [
    "sellers_rdd_header"
   ]
  },
  {
   "cell_type": "code",
   "execution_count": null,
   "id": "9407b5c9-9d3a-4c85-9a5e-65706a4bc9c9",
   "metadata": {},
   "outputs": [],
   "source": [
    "sellers_rdd.collect()"
   ]
  },
  {
   "cell_type": "code",
   "execution_count": null,
   "id": "5875e359-2071-4d0d-91e1-61e23cb7d1cd",
   "metadata": {},
   "outputs": [],
   "source": [
    "#2.5.2. Take top 3 elements of sellers_rdd in ascending order.\n",
    "sellers_rdd.sortByKey(True,1).take(3)"
   ]
  },
  {
   "cell_type": "code",
   "execution_count": null,
   "id": "f9a44144-b91a-41c1-abc2-c036336868a2",
   "metadata": {},
   "outputs": [],
   "source": [
    "#2.5.1. Take top 3 elements of sellers_rdd in descending order.\n",
    "sellers_rdd.sortByKey(False,1).take(3)"
   ]
  },
  {
   "cell_type": "code",
   "execution_count": null,
   "id": "538eee31-1a2c-4f0d-a762-183e812a4b81",
   "metadata": {},
   "outputs": [],
   "source": [
    "#2.6. Get a number of partitions of sellers_rdd.\n",
    "sellers_rdd.getNumPartitions()"
   ]
  },
  {
   "cell_type": "code",
   "execution_count": null,
   "id": "990f56ab-ba44-4fc3-b79e-9a359c842d60",
   "metadata": {},
   "outputs": [],
   "source": [
    "#---------------------TASK 3--------------------------------------\n",
    "#3.1. Please create the calendar_rdd variable containing years starting from 1970 to 2099 using parallelized collections. \n",
    "calendar_rdd=sc.parallelize(range(1970,2100))"
   ]
  },
  {
   "cell_type": "code",
   "execution_count": null,
   "id": "1781de03-790c-4519-9da1-fcc8e2516fa0",
   "metadata": {},
   "outputs": [],
   "source": [
    "#3.2. Filter the calendar_rdd data containing only coming years (2022, 2023..) and save it to the calendar_coming_years_rdd variable\n",
    "import datetime\n",
    "calendar_coming_years_rdd=calendar_rdd.filter(lambda x:int(datetime.datetime.today().strftime('%Y'))<=x)"
   ]
  },
  {
   "cell_type": "code",
   "execution_count": null,
   "id": "7e9de743-d46c-496d-a699-cdac06b84f36",
   "metadata": {},
   "outputs": [],
   "source": [
    "calendar_coming_years_rdd.collect()"
   ]
  },
  {
   "cell_type": "code",
   "execution_count": null,
   "id": "4812a577-c5d5-476b-8c49-91c57a1d94b0",
   "metadata": {},
   "outputs": [],
   "source": [
    "#3.3. Filter the calendar_rdd data containing only leap years (1972…2000…2016, 2020, 2024, …) and save it to the calendar_leap_years_rdd variable.\n",
    "calendar_leap_years_rdd=calendar_rdd.filter(lambda x:x%4==0)"
   ]
  },
  {
   "cell_type": "code",
   "execution_count": null,
   "id": "0a4a6a81-3124-4124-9783-aae84479bb91",
   "metadata": {},
   "outputs": [],
   "source": [
    "calendar_leap_years_rdd.collect()"
   ]
  },
  {
   "cell_type": "code",
   "execution_count": null,
   "id": "54f6b846-49b6-468b-a258-a4f0ccbe90e3",
   "metadata": {},
   "outputs": [],
   "source": [
    "#3.4. Create calendar_not_leap_years_rdd using some of SET operator and calendar_rdd and calendar_leap_years_rdd. It should contain all not leap years. Sort all values in ascending order and collect them.\n",
    "calendar_non_leap_years_rdd=calendar_rdd.subtract(calendar_leap_years_rdd).sortBy(lambda x:x)"
   ]
  },
  {
   "cell_type": "code",
   "execution_count": null,
   "id": "5590f934-8e64-4df0-850d-f4dd58f3517e",
   "metadata": {},
   "outputs": [],
   "source": [
    "calendar_non_leap_years_rdd.take(100)"
   ]
  },
  {
   "cell_type": "code",
   "execution_count": null,
   "id": "f6203bb8-3867-4283-8572-384a617d53d6",
   "metadata": {},
   "outputs": [],
   "source": [
    "#3.5. Group values of calendar_rdd by millennium (use the 2000 value for grouping).\n",
    "calendar_rdd.groupBy(lambda x: str(x)[0:1]).mapValues(list).collect()"
   ]
  },
  {
   "cell_type": "code",
   "execution_count": null,
   "id": "e7565704-c8a7-4b0c-a2e1-17673070fb8f",
   "metadata": {},
   "outputs": [],
   "source": [
    "#3.6. Imagine that mistakenly you deleted calendar_rdd using command “del calendar_rdd”. Please try to get the same data using UNION command and save it to the new_calendar_rdd.\n",
    "new_calendar_rdd=calendar_non_leap_years_rdd.union(calendar_leap_years_rdd)"
   ]
  },
  {
   "cell_type": "code",
   "execution_count": null,
   "id": "e788c70b-e87e-4673-a3ff-6c553c058057",
   "metadata": {},
   "outputs": [],
   "source": [
    "#3.7. You want to make sure that the UNION command above didn’t produce any duplicated data. Print count of elements of new_calendar_rdd and then a count of distinct values.\n",
    "#Code to verify the duplicates\n",
    "l=[]\n",
    "for i,j in new_calendar_rdd.countByValue().items():\n",
    "    if j>1:\n",
    "        a=j+1\n",
    "        print('Duplicate exists for key-> '+str(i)+' number of values-> '+str(j))\n",
    "    else:\n",
    "        l.append('No duplicates')\n",
    "print(set(l))"
   ]
  },
  {
   "cell_type": "code",
   "execution_count": null,
   "id": "8771b110-42df-4bc2-8220-11fb29c6a2f3",
   "metadata": {},
   "outputs": [],
   "source": [
    "#Print count of elements of new_calendar_rdd and then a count of distinct values.\n",
    "new_calendar_rdd.count()\n",
    "new_calendar_rdd.countByValue()"
   ]
  },
  {
   "cell_type": "code",
   "execution_count": null,
   "id": "7370775f-6384-47a0-9910-9b81eeec7762",
   "metadata": {},
   "outputs": [],
   "source": [
    "#3.8. Imagine that the time machine was created, and you are transported 1000 years ahead. Apply a map function to each element of calendar_rdd and create a calendar_rdd_future.   \n",
    "calendar_rdd_future=calendar_rdd.map(lambda x:x+1000)"
   ]
  },
  {
   "cell_type": "code",
   "execution_count": null,
   "id": "5bd8ddf1-710b-4219-aa4f-e11f7d16a2d0",
   "metadata": {},
   "outputs": [],
   "source": [
    "calendar_rdd_future.collect()"
   ]
  },
  {
   "cell_type": "code",
   "execution_count": null,
   "id": "54757ef0-c683-42c9-a975-51aec58ee736",
   "metadata": {},
   "outputs": [],
   "source": [
    "#3.9. Print the statistic of calendar_rdd data (count, min, max..)\n",
    "calendar_rdd.stats()"
   ]
  },
  {
   "cell_type": "code",
   "execution_count": null,
   "id": "4c19a9a6-c3e4-4adf-bc6d-5c17f59060b7",
   "metadata": {},
   "outputs": [],
   "source": []
  }
 ],
 "metadata": {
  "kernelspec": {
   "display_name": "Python 3 (ipykernel)",
   "language": "python",
   "name": "python3"
  },
  "language_info": {
   "codemirror_mode": {
    "name": "ipython",
    "version": 3
   },
   "file_extension": ".py",
   "mimetype": "text/x-python",
   "name": "python",
   "nbconvert_exporter": "python",
   "pygments_lexer": "ipython3",
   "version": "3.11.6"
  }
 },
 "nbformat": 4,
 "nbformat_minor": 5
}
